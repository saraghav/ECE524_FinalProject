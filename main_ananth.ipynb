{
 "cells": [
  {
   "cell_type": "markdown",
   "metadata": {},
   "source": [
    "# Common Section\n",
    "Functions and Function usage examples are in the two cells that follow"
   ]
  },
  {
   "cell_type": "code",
   "execution_count": 2,
   "metadata": {
    "collapsed": false
   },
   "outputs": [],
   "source": [
    "# For your development, copy all code from this cell and put it in your ipynb\n",
    "# As far as I've read, there's no simple way of directly sharing code\n",
    "#   across .ipynb notebooks; which really sucks.\n",
    "\n",
    "using Images, DataFrames, FixedPointNumbers, PyPlot, Colors\n",
    "\n",
    "# loads all jpg image files inside the directory\n",
    "function get_image_files(image_dir)\n",
    "    # get all the files in the directory\n",
    "    dir_contents = readdir(image_dir)\n",
    "    dir_contents = [ join([image_dir, dir_contents[i]], \"/\") for i in 1:length(dir_contents) ]\n",
    "    \n",
    "    # retain only jpg image files\n",
    "    image_files = filter(x->ismatch(r\".jpg$\", x), dir_contents)\n",
    "    \n",
    "    # return the paths to the jpg image files\n",
    "    return image_files\n",
    "end\n",
    "\n",
    "# converts image to a h x w matrix\n",
    "#   h = height\n",
    "#   w = width\n",
    "function convert_image_to_mat(image)\n",
    "    image_mat = reinterpret(UInt8, separate(image).data)\n",
    "    return image_mat\n",
    "end\n",
    "\n",
    "# converts a h x w matrix to an Images module image\n",
    "function convert_mat_to_image(image_mat)\n",
    "    image = colorim(image_mat)\n",
    "    return image\n",
    "end\n",
    "\n",
    "# load a list of image files as a cell array of image matrices\n",
    "function load_images_as_cellarray_mats(image_files)\n",
    "    images_mat = cell(length(image_files),1)\n",
    "    for (image_n, image_file) in enumerate(image_files)\n",
    "        image = load(image_file)\n",
    "        image_mat = convert_image_to_mat(image)\n",
    "        images_mat[image_n] = image_mat\n",
    "    end\n",
    "    return images_mat\n",
    "end\n",
    "\n",
    "# convert a cell array of image matrices to a cell array of images\n",
    "function load_cellarray_mats_as_images(images_mat)\n",
    "    images = cell(length(images_mat),1)\n",
    "    for (image_n, image_mat) in enumerate(images_mat)\n",
    "        image = convert_mat_to_image(image_mat)\n",
    "        images[image_n] = image\n",
    "    end\n",
    "    return images\n",
    "end\n",
    "\n",
    "; # suppress display"
   ]
  },
  {
   "cell_type": "code",
   "execution_count": 4,
   "metadata": {
    "collapsed": false
   },
   "outputs": [],
   "source": [
    "# function usage examples summary\n",
    "#   if you write any new functions in your code, please maintain two such cells\n",
    "#   e.g. like cell above, one cell with ALL the functions\n",
    "#        like this cell, a summary of all the function that you have written, with an example syntax\n",
    "\n",
    "# image_files = get_image_files(\"./beer1800\")\n",
    "# images_mat = load_images_as_cellarray_mats(image_files)\n",
    "# images = load_cellarray_mats_as_images(images_mat)\n",
    "# image_mat = convert_image_to_mat(images[1])\n",
    "# image = convert_mat_to_image(image_mat)"
   ]
  },
  {
   "cell_type": "markdown",
   "metadata": {},
   "source": [
    "# Individual Section\n",
    "At the moment the cells that follow just have dummy code. I will be using the cells below for my own experiments.\n",
    "\n",
    "My suggestion - Let's copy the code in the first two cells (common section) and do our own experiments in separate files. We can meet regularly and decide what functions that we write will be ported to the final submission and merge it accordingly.\n",
    "\n",
    "Another suggestion - I've named this file as **main\\_ananth.ipynb**. If you guys also follow the same convention (**main\\_\\<name\\>.ipynb**) for consistency, it would be great. Also, this way, we can name our final code as **main.ipynb** and rename it later as we see fit."
   ]
  },
  {
   "cell_type": "code",
   "execution_count": null,
   "metadata": {
    "collapsed": false
   },
   "outputs": [],
   "source": [
    "image_sizes = zeros(length(image_files), 2)\n",
    "for (index, image_file) in enumerate(image_files)\n",
    "    image = load(image_file)\n",
    "    image_sizes[index,:] = collect(size(image))\n",
    "end"
   ]
  },
  {
   "cell_type": "code",
   "execution_count": null,
   "metadata": {
    "collapsed": false
   },
   "outputs": [],
   "source": [
    "# figure(1)\n",
    "# grid(\"on\")\n",
    "# plot(image_sizes[:,1], image_sizes[:,2], \"o\")\n",
    "# xlabel(\"width of images\")\n",
    "# ylabel(\"height of images\")\n",
    "println(minimum(image_sizes[:,2]))\n",
    "println(maximum(image_sizes[:,2]))"
   ]
  },
  {
   "cell_type": "code",
   "execution_count": null,
   "metadata": {
    "collapsed": true
   },
   "outputs": [],
   "source": []
  }
 ],
 "metadata": {
  "kernelspec": {
   "display_name": "Julia 0.4.3",
   "language": "julia",
   "name": "julia-0.4"
  },
  "language_info": {
   "file_extension": ".jl",
   "mimetype": "application/julia",
   "name": "julia",
   "version": "0.4.3"
  }
 },
 "nbformat": 4,
 "nbformat_minor": 0
}
