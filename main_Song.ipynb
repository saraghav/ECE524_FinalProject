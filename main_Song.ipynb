{
 "cells": [
  {
   "cell_type": "markdown",
   "metadata": {},
   "source": [
    "#  ECE524 Final Project--Image Mosaicking\n",
    "#### Ananth Sridhar, Rangapriya Parthasarathy, Song Mei\n",
    "\n",
    "### Part I: Introduction\n",
    "Mosaicking is an old art technique where pictures or designs are formed by inlaying small bits of colored stone, glass, or tile. These small bits are visible close up, but the boundaries of the bits will blend and a single recognizable image will show at a distance. \n",
    "\n",
    "In the modern digital world, this acient art form has been transformed and combined with new technologies. As one has access to large public image database, individual images, instead of pure-colored blocks can be used as tiles to make pictures. Here is a famous mosaic image of president Obama made by [Anne Savage](http://news.siu.edu/2009/01/011509amh9004.php) during his campaign.\n",
    "![Obama](http://news.siu.edu/_assets/images/2009/01/asavage_mosaic.jpg)\n",
    "Nearly 6,000 images of individual faces are used to create this image. Sure enough, it has become a very popular poster because of the special art form. Using image mosaicking to form various pictures is very cool and seems like a daunting task because we are picking and arranging thousands of pictures from a even bigger pool of pictures. There are businesses helping you create your own mosaic work with charge. However, with intuition and just a little knowledge of optimization, we can do it at home ourselves!\n",
    "\n",
    "We know images consist of pixels, and each pixel can be described using RGB color intensities. In order for two images to look alike, we just need to match their pixels. In this case, for the image to show at a distance, intuitively, we can just treat the basis images as \"super pixels\" and try to match them with the corresponding subimage of the target image. Naturally, we will take the target image and partition it into a grid whose size is our tile size. Then for each grid, we will choose one image from the basis that resembles the most. The way to qualify \"resemblance\" is discussed in detail in Part II. Because each chosen basis image resembles the grid best, after processing all grids, we will end up with a mosaicking image that overall best resembles the whole image. Notice that this is the most intuitive way to solve the problem, and it will always achieve the best result. We will present the solution using this method in the first section of Part III. This brute force method is limited by its speed; variants of the algorithm that speeds the process up will be discussed. We will also explore how changing the size of the tiles will affect the performance. The image basis in this project are obtained from online source [mazaika](http://www.mazaika.com/mazdownload.html).\n",
    " "
   ]
  },
  {
   "cell_type": "markdown",
   "metadata": {},
   "source": [
    "### Part II: Mathematical model\n",
    "\n",
    "From the introduction above, it is clear that image mosaicking is an **assignment problem** which can be modeled as a **Mixed Integer Problem**. The **decision variables** $G_i,i\\in\\mathbf{I}$ ($\\mathbf{I}$ is the set of all grids in target image) are which image (represented by its index $j\\in\\mathbf{B}$, where $\\mathbf{B}$ is the set of basis images) to choose for each grid $i$ of the target image. Therefore, $\\mathbf{B}$ represent the restricted set of values $G_i$ can take. In the simplest version, image mosaicking problem **does not have mathematical constraints**. The **objective** is to minimize the difference$^*$ between the chosen mosaic and the target image. ($^*$ _Several different functions can be used to describe the resemblance of the grid and the basis image. The characteristic they share is the value decreases as the two images get more alike, converging to 0 as the images become the same._)"
   ]
  },
  {
   "cell_type": "code",
   "execution_count": null,
   "metadata": {
    "collapsed": true
   },
   "outputs": [],
   "source": []
  }
 ],
 "metadata": {
  "kernelspec": {
   "display_name": "Julia 0.4.3",
   "language": "julia",
   "name": "julia-0.4"
  },
  "language_info": {
   "file_extension": ".jl",
   "mimetype": "application/julia",
   "name": "julia",
   "version": "0.4.3"
  }
 },
 "nbformat": 4,
 "nbformat_minor": 0
}
