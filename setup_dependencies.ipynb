{
 "cells": [
  {
   "cell_type": "markdown",
   "metadata": {},
   "source": [
    "# Dependencies\n",
    "Please add ANY new package that you start using in your code in this list. This way, we can all run just one script to make sure that our development environment matches each others'."
   ]
  },
  {
   "cell_type": "code",
   "execution_count": 2,
   "metadata": {
    "collapsed": false
   },
   "outputs": [],
   "source": [
    "############################\n",
    "# All Package Dependencies #\n",
    "############################\n",
    "\n",
    "# Pkg.add(\"JuMP\")\n",
    "# Pkg.add(\"Mosek\")\n",
    "# Pkg.add(\"Ipopt\")\n",
    "# Pkg.add(\"Clp\")\n",
    "# Pkg.add(\"Images\")\n",
    "# Pkg.add(\"DataFrames\")\n",
    "# Pkg.add(\"FixedPointNumbers\")\n",
    "# Pkg.add(\"ImageView\")"
   ]
  },
  {
   "cell_type": "code",
   "execution_count": 3,
   "metadata": {
    "collapsed": false
   },
   "outputs": [],
   "source": [
    "# Pkg.update()"
   ]
  }
 ],
 "metadata": {
  "kernelspec": {
   "display_name": "Julia 0.4.3",
   "language": "julia",
   "name": "julia-0.4"
  },
  "language_info": {
   "file_extension": ".jl",
   "mimetype": "application/julia",
   "name": "julia",
   "version": "0.4.3"
  }
 },
 "nbformat": 4,
 "nbformat_minor": 0
}
