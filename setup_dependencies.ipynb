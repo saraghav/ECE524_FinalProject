{
 "cells": [
  {
   "cell_type": "markdown",
   "metadata": {},
   "source": [
    "# Dependencies\n",
    "Please add ANY new package that you start using in your code in this list. This way, we can all run just one script to make sure that our development environment matches each others'."
   ]
  },
  {
   "cell_type": "code",
   "execution_count": 1,
   "metadata": {
    "collapsed": false
   },
   "outputs": [
    {
     "name": "stderr",
     "output_type": "stream",
     "text": [
      "INFO: Nothing to be done\n",
      "INFO: Nothing to be done\n",
      "INFO: Nothing to be done\n",
      "INFO: Nothing to be done\n",
      "INFO: Nothing to be done\n",
      "INFO: Nothing to be done\n",
      "INFO: Nothing to be done\n",
      "INFO: Nothing to be done\n",
      "INFO: Nothing to be done\n",
      "INFO: Nothing to be done\n",
      "INFO: Cloning cache of Interact from git://github.com/JuliaLang/Interact.jl.git\n",
      "INFO: Cloning cache of Reactive from git://github.com/JuliaLang/Reactive.jl.git\n",
      "INFO: Installing Interact v0.3.1\n",
      "INFO: Installing Reactive v0.3.2\n",
      "INFO: Package database updated\n"
     ]
    }
   ],
   "source": [
    "############################\n",
    "# All Package Dependencies #\n",
    "############################\n",
    "\n",
    "Pkg.add(\"JuMP\")\n",
    "Pkg.add(\"Mosek\")\n",
    "Pkg.add(\"Ipopt\")\n",
    "Pkg.add(\"Clp\")\n",
    "Pkg.add(\"Images\")\n",
    "Pkg.add(\"DataFrames\")\n",
    "Pkg.add(\"FixedPointNumbers\")\n",
    "Pkg.add(\"ImageView\")\n",
    "Pkg.add(\"ProgressMeter\")\n",
    "Pkg.add(\"HTTPClient\")\n",
    "Pkg.add(\"Interact\")"
   ]
  },
  {
   "cell_type": "code",
   "execution_count": 2,
   "metadata": {
    "collapsed": false
   },
   "outputs": [
    {
     "name": "stderr",
     "output_type": "stream",
     "text": [
      "INFO: Updating METADATA...\n",
      "INFO: Computing changes...\n",
      "INFO: No packages to install, update or remove\n"
     ]
    }
   ],
   "source": [
    "Pkg.update()"
   ]
  },
  {
   "cell_type": "code",
   "execution_count": null,
   "metadata": {
    "collapsed": true
   },
   "outputs": [],
   "source": []
  }
 ],
 "metadata": {
  "kernelspec": {
   "display_name": "Julia 0.4.3",
   "language": "julia",
   "name": "julia-0.4"
  },
  "language_info": {
   "file_extension": ".jl",
   "mimetype": "application/julia",
   "name": "julia",
   "version": "0.4.3"
  }
 },
 "nbformat": 4,
 "nbformat_minor": 0
}
