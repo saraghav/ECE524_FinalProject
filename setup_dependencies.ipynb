{
 "cells": [
  {
   "cell_type": "markdown",
   "metadata": {},
   "source": [
    "# Dependencies\n",
    "Please add ANY new package that you start using in your code in this list. This way, we can all run just one script to make sure that our development environment matches each others'."
   ]
  },
  {
   "cell_type": "code",
   "execution_count": 4,
   "metadata": {
    "collapsed": false
   },
   "outputs": [
    {
     "name": "stderr",
     "output_type": "stream",
     "text": [
      "INFO: Cloning cache of ProgressMeter from git://github.com/timholy/ProgressMeter.jl.git\n",
      "INFO: Installing ProgressMeter v0.3.1\n",
      "INFO: Package database updated\n",
      "INFO: METADATA is out-of-date — you may not have the latest version of ProgressMeter\n",
      "INFO: Use `Pkg.update()` to get the latest versions of your packages\n"
     ]
    }
   ],
   "source": [
    "############################\n",
    "# All Package Dependencies #\n",
    "############################\n",
    "\n",
    "# Pkg.add(\"JuMP\")\n",
    "# Pkg.add(\"Mosek\")\n",
    "# Pkg.add(\"Ipopt\")\n",
    "# Pkg.add(\"Clp\")\n",
    "# Pkg.add(\"Images\")\n",
    "# Pkg.add(\"DataFrames\")\n",
    "# Pkg.add(\"FixedPointNumbers\")\n",
    "# Pkg.add(\"ImageView\")\n",
    "Pkg.add(\"ProgressMeter\")"
   ]
  },
  {
   "cell_type": "code",
   "execution_count": 3,
   "metadata": {
    "collapsed": false
   },
   "outputs": [],
   "source": [
    "# Pkg.update()"
   ]
  }
 ],
 "metadata": {
  "kernelspec": {
   "display_name": "Julia 0.4.3",
   "language": "julia",
   "name": "julia-0.4"
  },
  "language_info": {
   "file_extension": ".jl",
   "mimetype": "application/julia",
   "name": "julia",
   "version": "0.4.3"
  }
 },
 "nbformat": 4,
 "nbformat_minor": 0
}
