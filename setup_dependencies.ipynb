{
 "cells": [
  {
   "cell_type": "markdown",
   "metadata": {},
   "source": [
    "# Dependencies\n",
    "Please add ANY new package that you start using in your code in this list. This way, we can all run just one script to make sure that our development environment matches each others'."
   ]
  },
  {
   "cell_type": "code",
   "execution_count": 3,
   "metadata": {
    "collapsed": false
   },
   "outputs": [
    {
     "name": "stderr",
     "output_type": "stream",
     "text": [
      "INFO: Nothing to be done\n",
      "INFO: Nothing to be done\n",
      "INFO: Nothing to be done\n",
      "INFO: Nothing to be done\n",
      "INFO: Nothing to be done\n",
      "INFO: Nothing to be done\n",
      "INFO: Nothing to be done\n",
      "INFO: Nothing to be done\n",
      "INFO: Nothing to be done\n",
      "INFO: Nothing to be done\n"
     ]
    }
   ],
   "source": [
    "############################\n",
    "# All Package Dependencies #\n",
    "############################\n",
    "\n",
    "Pkg.add(\"JuMP\")\n",
    "Pkg.add(\"Mosek\")\n",
    "Pkg.add(\"Ipopt\")\n",
    "Pkg.add(\"Clp\")\n",
    "Pkg.add(\"Images\")\n",
    "Pkg.add(\"DataFrames\")\n",
    "Pkg.add(\"FixedPointNumbers\")\n",
    "Pkg.add(\"ImageView\")\n",
    "Pkg.add(\"ProgressMeter\")\n",
    "Pkg.add(\"Gurobi\")"
   ]
  },
  {
   "cell_type": "code",
   "execution_count": 2,
   "metadata": {
    "collapsed": false
   },
   "outputs": [
    {
     "name": "stderr",
     "output_type": "stream",
     "text": [
      "INFO: Updating METADATA...\n",
      "INFO: Updating cache of FixedSizeArrays...\n",
      "INFO: Updating cache of FixedPointNumbers...\n",
      "INFO: Updating cache of Compat...\n",
      "INFO: Updating cache of NamedArrays...\n",
      "INFO: Updating cache of DataStructures...\n",
      "INFO: Updating cache of Nettle...\n",
      "INFO: Computing changes...\n",
      "INFO: Cloning cache of Combinatorics from git://github.com/JuliaLang/Combinatorics.jl.git\n",
      "INFO: Cloning cache of Polynomials from git://github.com/Keno/Polynomials.jl.git\n",
      "INFO: Upgrading ColorVectorSpace: v0.1.1 => v0.1.3\n",
      "INFO: Installing Combinatorics v0.2.1\n",
      "INFO: Upgrading Compat: v0.7.13 => v0.7.14\n",
      "INFO: Upgrading DataStructures: v0.4.3 => v0.4.4\n",
      "INFO: Upgrading FixedPointNumbers: v0.1.2 => v0.1.3\n",
      "INFO: Upgrading FixedSizeArrays: v0.0.10 => v0.1.0\n",
      "INFO: Upgrading Images: v0.5.3 => v0.5.4\n",
      "INFO: Upgrading NamedArrays: v0.4.6 => v0.4.7\n",
      "INFO: Upgrading Nettle: v0.2.2 => v0.2.3\n",
      "INFO: Installing Polynomials v0.0.5\n",
      "INFO: Upgrading ProgressMeter: v0.3.0 => v0.3.1\n",
      "INFO: Building Homebrew\n",
      "INFO: Recompiling stale cache file /Users/Song/.julia/lib/v0.4/Compat.ji for module Compat.\n",
      "INFO: Recompiling stale cache file /Users/Song/.julia/lib/v0.4/JSON.ji for module JSON.\n",
      "INFO: Recompiling stale cache file /Users/Song/.julia/lib/v0.4/BinDeps.ji for module BinDeps.\n",
      "INFO: Recompiling stale cache file /Users/Song/.julia/lib/v0.4/SHA.ji for module SHA.\n"
     ]
    },
    {
     "name": "stdout",
     "output_type": "stream",
     "text": [
      "HEAD is now at 53c5089 CoreTap#install: fix clone target setting\n",
      "HEAD is now at d45fe22 Merge pull request #91 from staticfloat/staging\n"
     ]
    },
    {
     "name": "stderr",
     "output_type": "stream",
     "text": [
      "INFO: Building Nettle\n"
     ]
    }
   ],
   "source": [
    "Pkg.update()"
   ]
  },
  {
   "cell_type": "code",
   "execution_count": null,
   "metadata": {
    "collapsed": true
   },
   "outputs": [],
   "source": []
  }
 ],
 "metadata": {
  "kernelspec": {
   "display_name": "Julia 0.4.3",
   "language": "julia",
   "name": "julia-0.4"
  },
  "language_info": {
   "file_extension": ".jl",
   "mimetype": "application/julia",
   "name": "julia",
   "version": "0.4.3"
  }
 },
 "nbformat": 4,
 "nbformat_minor": 0
}
